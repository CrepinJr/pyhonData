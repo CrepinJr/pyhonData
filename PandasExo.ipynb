{
  "cells": [
    {
      "cell_type": "markdown",
      "metadata": {
        "id": "view-in-github",
        "colab_type": "text"
      },
      "source": [
        "<a href=\"https://colab.research.google.com/github/CrepinJr/pyhonData/blob/main/PandasExo.ipynb\" target=\"_parent\"><img src=\"https://colab.research.google.com/assets/colab-badge.svg\" alt=\"Open In Colab\"/></a>"
      ]
    },
    {
      "cell_type": "markdown",
      "id": "R3XfsWhvzcOD",
      "metadata": {
        "id": "R3XfsWhvzcOD"
      },
      "source": [
        "<font size=6.5 color=\"sky-blue\"><b> <span> Initiation à Python pour la Data Science </span> </b></font>\n"
      ]
    },
    {
      "cell_type": "markdown",
      "source": [
        "<font size=5><b> <span> Exercice Séance 3 : </span> </b>  Pandas</font></center>"
      ],
      "metadata": {
        "id": "lJoZ6BZjFvmr"
      },
      "id": "lJoZ6BZjFvmr"
    },
    {
      "cell_type": "markdown",
      "source": [
        "##### **Tp à envoyer au plus tard le vendredi 26 janvier à 23h GMT**"
      ],
      "metadata": {
        "id": "NXXX4vKaF2H2"
      },
      "id": "NXXX4vKaF2H2"
    },
    {
      "cell_type": "code",
      "source": [
        "#Nom : HOUESSOU\n",
        "#Prénom : Crépin"
      ],
      "metadata": {
        "id": "jJr17gK0GGMv"
      },
      "id": "jJr17gK0GGMv",
      "execution_count": null,
      "outputs": []
    },
    {
      "cell_type": "markdown",
      "id": "45210a00",
      "metadata": {
        "id": "45210a00"
      },
      "source": [
        "### $$\\text{Chargement  de Pandas sous le nom pd }$$"
      ]
    },
    {
      "cell_type": "code",
      "execution_count": 1,
      "id": "736e4702",
      "metadata": {
        "id": "736e4702"
      },
      "outputs": [],
      "source": [
        "#charger pandas sous le nom pd\n",
        "\n",
        "import pandas as pd"
      ]
    },
    {
      "cell_type": "markdown",
      "id": "e5aec153",
      "metadata": {
        "id": "e5aec153"
      },
      "source": [
        "### $$\\text{Les séries }$$"
      ]
    },
    {
      "cell_type": "code",
      "execution_count": null,
      "id": "31750bc4",
      "metadata": {
        "id": "31750bc4"
      },
      "outputs": [],
      "source": [
        "#Créez une série appelée temperature qui représente les températures quotidiennes d'une semaine (7 jours)\n",
        "#d'une semaine (7 jours). Utilisez des valeurs de température au hasard, par exemple, entre 20 et 30.\n",
        "\n",
        "temperature = pd.Series([20, 25, 21, 26, 22, 29, 28])\n"
      ]
    },
    {
      "cell_type": "code",
      "execution_count": null,
      "id": "19849954",
      "metadata": {
        "id": "19849954"
      },
      "outputs": [],
      "source": [
        "#Affichez la série temperature\n",
        "temperature"
      ]
    },
    {
      "cell_type": "code",
      "execution_count": 5,
      "id": "9cea9974",
      "metadata": {
        "id": "9cea9974"
      },
      "outputs": [],
      "source": [
        "#Ajoutez des index pour représenter les jours de la semaine (Lundi', 'Mardi', ..., 'Dimanche').\n",
        "\n",
        "jours = [\"Lundi\", \"Mardi\", \"Mercredi\", \"Jeudi\", \"Vendredi\", \"Samedi\", \"Dimanche\"]\n",
        "temperature.index = jours"
      ]
    },
    {
      "cell_type": "code",
      "execution_count": null,
      "id": "8221b929",
      "metadata": {
        "id": "8221b929"
      },
      "outputs": [],
      "source": [
        "#Affichez à nouveau la série avec les nouveaux index\n",
        "temperature"
      ]
    },
    {
      "cell_type": "code",
      "execution_count": null,
      "id": "a1934ad6",
      "metadata": {
        "id": "a1934ad6"
      },
      "outputs": [],
      "source": [
        "#Accédez à la température du 'Mercredi'.\n",
        "\n",
        "temperature['Mercredi']"
      ]
    },
    {
      "cell_type": "code",
      "execution_count": null,
      "id": "3fdd7f02",
      "metadata": {
        "id": "3fdd7f02"
      },
      "outputs": [],
      "source": [
        "#Calculez et afficher la moyenne des températures de la semaine.\n",
        "\n",
        "temperature.mean()"
      ]
    },
    {
      "cell_type": "code",
      "execution_count": null,
      "id": "2db35ceb",
      "metadata": {
        "id": "2db35ceb"
      },
      "outputs": [],
      "source": [
        "#Trouvez le jour avec la température maximale.\n",
        "\n",
        "temperature.max()"
      ]
    },
    {
      "cell_type": "markdown",
      "id": "67ed6f86",
      "metadata": {
        "id": "67ed6f86"
      },
      "source": [
        "### $$\\text{Nettoyage et préparation des données}$$"
      ]
    },
    {
      "cell_type": "markdown",
      "id": "a16c71fc",
      "metadata": {
        "id": "a16c71fc"
      },
      "source": [
        "### $$\\text{Chargement du fichier}$$"
      ]
    },
    {
      "cell_type": "code",
      "execution_count": 10,
      "id": "f9c9b306",
      "metadata": {
        "id": "f9c9b306"
      },
      "outputs": [],
      "source": [
        "url = \"https://raw.githubusercontent.com/wesm/pydata-book/3rd-edition/datasets/titanic/train.csv\"\n",
        "#Chargement du fichier train.csv dans un dataframe de nom donner\n",
        "donner = pd.read_csv(url)\n"
      ]
    },
    {
      "cell_type": "markdown",
      "id": "9a0f9928",
      "metadata": {
        "id": "9a0f9928"
      },
      "source": [
        "### $$\\text{Les dimensions du dataframe}$$"
      ]
    },
    {
      "cell_type": "code",
      "execution_count": 11,
      "id": "d17d4d1a",
      "metadata": {
        "id": "d17d4d1a",
        "colab": {
          "base_uri": "https://localhost:8080/"
        },
        "outputId": "2b966714-4161-493c-aef7-a7282d086b4c"
      },
      "outputs": [
        {
          "output_type": "execute_result",
          "data": {
            "text/plain": [
              "(891, 12)"
            ]
          },
          "metadata": {},
          "execution_count": 11
        }
      ],
      "source": [
        "#Les dimensions du dataframe\n",
        "donner.shape\n"
      ]
    },
    {
      "cell_type": "markdown",
      "id": "fc9a80c2",
      "metadata": {
        "id": "fc9a80c2"
      },
      "source": [
        "### $$\\text{Les 5 première ligne du dataframe}$$"
      ]
    },
    {
      "cell_type": "code",
      "execution_count": null,
      "id": "21143bb4",
      "metadata": {
        "id": "21143bb4"
      },
      "outputs": [],
      "source": [
        "#Afficher les 5 première ligne du dataframe\n",
        "donner.head(5)\n"
      ]
    },
    {
      "cell_type": "markdown",
      "id": "78f68c3e",
      "metadata": {
        "id": "78f68c3e"
      },
      "source": [
        "### $$\\text{Les 5 dernière ligne du dataframe}$$"
      ]
    },
    {
      "cell_type": "code",
      "execution_count": 13,
      "id": "83503c43",
      "metadata": {
        "id": "83503c43",
        "colab": {
          "base_uri": "https://localhost:8080/",
          "height": 206
        },
        "outputId": "360d09c9-1d17-4679-9ce7-dfb0d2998094"
      },
      "outputs": [
        {
          "output_type": "execute_result",
          "data": {
            "text/plain": [
              "     PassengerId  Survived  Pclass                                      Name  \\\n",
              "886          887         0       2                     Montvila, Rev. Juozas   \n",
              "887          888         1       1              Graham, Miss. Margaret Edith   \n",
              "888          889         0       3  Johnston, Miss. Catherine Helen \"Carrie\"   \n",
              "889          890         1       1                     Behr, Mr. Karl Howell   \n",
              "890          891         0       3                       Dooley, Mr. Patrick   \n",
              "\n",
              "        Sex   Age  SibSp  Parch      Ticket   Fare Cabin Embarked  \n",
              "886    male  27.0      0      0      211536  13.00   NaN        S  \n",
              "887  female  19.0      0      0      112053  30.00   B42        S  \n",
              "888  female   NaN      1      2  W./C. 6607  23.45   NaN        S  \n",
              "889    male  26.0      0      0      111369  30.00  C148        C  \n",
              "890    male  32.0      0      0      370376   7.75   NaN        Q  "
            ],
            "text/html": [
              "\n",
              "  <div id=\"df-3ccd0851-d0ba-4bf4-9e48-497171840a63\" class=\"colab-df-container\">\n",
              "    <div>\n",
              "<style scoped>\n",
              "    .dataframe tbody tr th:only-of-type {\n",
              "        vertical-align: middle;\n",
              "    }\n",
              "\n",
              "    .dataframe tbody tr th {\n",
              "        vertical-align: top;\n",
              "    }\n",
              "\n",
              "    .dataframe thead th {\n",
              "        text-align: right;\n",
              "    }\n",
              "</style>\n",
              "<table border=\"1\" class=\"dataframe\">\n",
              "  <thead>\n",
              "    <tr style=\"text-align: right;\">\n",
              "      <th></th>\n",
              "      <th>PassengerId</th>\n",
              "      <th>Survived</th>\n",
              "      <th>Pclass</th>\n",
              "      <th>Name</th>\n",
              "      <th>Sex</th>\n",
              "      <th>Age</th>\n",
              "      <th>SibSp</th>\n",
              "      <th>Parch</th>\n",
              "      <th>Ticket</th>\n",
              "      <th>Fare</th>\n",
              "      <th>Cabin</th>\n",
              "      <th>Embarked</th>\n",
              "    </tr>\n",
              "  </thead>\n",
              "  <tbody>\n",
              "    <tr>\n",
              "      <th>886</th>\n",
              "      <td>887</td>\n",
              "      <td>0</td>\n",
              "      <td>2</td>\n",
              "      <td>Montvila, Rev. Juozas</td>\n",
              "      <td>male</td>\n",
              "      <td>27.0</td>\n",
              "      <td>0</td>\n",
              "      <td>0</td>\n",
              "      <td>211536</td>\n",
              "      <td>13.00</td>\n",
              "      <td>NaN</td>\n",
              "      <td>S</td>\n",
              "    </tr>\n",
              "    <tr>\n",
              "      <th>887</th>\n",
              "      <td>888</td>\n",
              "      <td>1</td>\n",
              "      <td>1</td>\n",
              "      <td>Graham, Miss. Margaret Edith</td>\n",
              "      <td>female</td>\n",
              "      <td>19.0</td>\n",
              "      <td>0</td>\n",
              "      <td>0</td>\n",
              "      <td>112053</td>\n",
              "      <td>30.00</td>\n",
              "      <td>B42</td>\n",
              "      <td>S</td>\n",
              "    </tr>\n",
              "    <tr>\n",
              "      <th>888</th>\n",
              "      <td>889</td>\n",
              "      <td>0</td>\n",
              "      <td>3</td>\n",
              "      <td>Johnston, Miss. Catherine Helen \"Carrie\"</td>\n",
              "      <td>female</td>\n",
              "      <td>NaN</td>\n",
              "      <td>1</td>\n",
              "      <td>2</td>\n",
              "      <td>W./C. 6607</td>\n",
              "      <td>23.45</td>\n",
              "      <td>NaN</td>\n",
              "      <td>S</td>\n",
              "    </tr>\n",
              "    <tr>\n",
              "      <th>889</th>\n",
              "      <td>890</td>\n",
              "      <td>1</td>\n",
              "      <td>1</td>\n",
              "      <td>Behr, Mr. Karl Howell</td>\n",
              "      <td>male</td>\n",
              "      <td>26.0</td>\n",
              "      <td>0</td>\n",
              "      <td>0</td>\n",
              "      <td>111369</td>\n",
              "      <td>30.00</td>\n",
              "      <td>C148</td>\n",
              "      <td>C</td>\n",
              "    </tr>\n",
              "    <tr>\n",
              "      <th>890</th>\n",
              "      <td>891</td>\n",
              "      <td>0</td>\n",
              "      <td>3</td>\n",
              "      <td>Dooley, Mr. Patrick</td>\n",
              "      <td>male</td>\n",
              "      <td>32.0</td>\n",
              "      <td>0</td>\n",
              "      <td>0</td>\n",
              "      <td>370376</td>\n",
              "      <td>7.75</td>\n",
              "      <td>NaN</td>\n",
              "      <td>Q</td>\n",
              "    </tr>\n",
              "  </tbody>\n",
              "</table>\n",
              "</div>\n",
              "    <div class=\"colab-df-buttons\">\n",
              "\n",
              "  <div class=\"colab-df-container\">\n",
              "    <button class=\"colab-df-convert\" onclick=\"convertToInteractive('df-3ccd0851-d0ba-4bf4-9e48-497171840a63')\"\n",
              "            title=\"Convert this dataframe to an interactive table.\"\n",
              "            style=\"display:none;\">\n",
              "\n",
              "  <svg xmlns=\"http://www.w3.org/2000/svg\" height=\"24px\" viewBox=\"0 -960 960 960\">\n",
              "    <path d=\"M120-120v-720h720v720H120Zm60-500h600v-160H180v160Zm220 220h160v-160H400v160Zm0 220h160v-160H400v160ZM180-400h160v-160H180v160Zm440 0h160v-160H620v160ZM180-180h160v-160H180v160Zm440 0h160v-160H620v160Z\"/>\n",
              "  </svg>\n",
              "    </button>\n",
              "\n",
              "  <style>\n",
              "    .colab-df-container {\n",
              "      display:flex;\n",
              "      gap: 12px;\n",
              "    }\n",
              "\n",
              "    .colab-df-convert {\n",
              "      background-color: #E8F0FE;\n",
              "      border: none;\n",
              "      border-radius: 50%;\n",
              "      cursor: pointer;\n",
              "      display: none;\n",
              "      fill: #1967D2;\n",
              "      height: 32px;\n",
              "      padding: 0 0 0 0;\n",
              "      width: 32px;\n",
              "    }\n",
              "\n",
              "    .colab-df-convert:hover {\n",
              "      background-color: #E2EBFA;\n",
              "      box-shadow: 0px 1px 2px rgba(60, 64, 67, 0.3), 0px 1px 3px 1px rgba(60, 64, 67, 0.15);\n",
              "      fill: #174EA6;\n",
              "    }\n",
              "\n",
              "    .colab-df-buttons div {\n",
              "      margin-bottom: 4px;\n",
              "    }\n",
              "\n",
              "    [theme=dark] .colab-df-convert {\n",
              "      background-color: #3B4455;\n",
              "      fill: #D2E3FC;\n",
              "    }\n",
              "\n",
              "    [theme=dark] .colab-df-convert:hover {\n",
              "      background-color: #434B5C;\n",
              "      box-shadow: 0px 1px 3px 1px rgba(0, 0, 0, 0.15);\n",
              "      filter: drop-shadow(0px 1px 2px rgba(0, 0, 0, 0.3));\n",
              "      fill: #FFFFFF;\n",
              "    }\n",
              "  </style>\n",
              "\n",
              "    <script>\n",
              "      const buttonEl =\n",
              "        document.querySelector('#df-3ccd0851-d0ba-4bf4-9e48-497171840a63 button.colab-df-convert');\n",
              "      buttonEl.style.display =\n",
              "        google.colab.kernel.accessAllowed ? 'block' : 'none';\n",
              "\n",
              "      async function convertToInteractive(key) {\n",
              "        const element = document.querySelector('#df-3ccd0851-d0ba-4bf4-9e48-497171840a63');\n",
              "        const dataTable =\n",
              "          await google.colab.kernel.invokeFunction('convertToInteractive',\n",
              "                                                    [key], {});\n",
              "        if (!dataTable) return;\n",
              "\n",
              "        const docLinkHtml = 'Like what you see? Visit the ' +\n",
              "          '<a target=\"_blank\" href=https://colab.research.google.com/notebooks/data_table.ipynb>data table notebook</a>'\n",
              "          + ' to learn more about interactive tables.';\n",
              "        element.innerHTML = '';\n",
              "        dataTable['output_type'] = 'display_data';\n",
              "        await google.colab.output.renderOutput(dataTable, element);\n",
              "        const docLink = document.createElement('div');\n",
              "        docLink.innerHTML = docLinkHtml;\n",
              "        element.appendChild(docLink);\n",
              "      }\n",
              "    </script>\n",
              "  </div>\n",
              "\n",
              "\n",
              "<div id=\"df-1784289a-cfa7-40f3-993f-b4614cb18310\">\n",
              "  <button class=\"colab-df-quickchart\" onclick=\"quickchart('df-1784289a-cfa7-40f3-993f-b4614cb18310')\"\n",
              "            title=\"Suggest charts\"\n",
              "            style=\"display:none;\">\n",
              "\n",
              "<svg xmlns=\"http://www.w3.org/2000/svg\" height=\"24px\"viewBox=\"0 0 24 24\"\n",
              "     width=\"24px\">\n",
              "    <g>\n",
              "        <path d=\"M19 3H5c-1.1 0-2 .9-2 2v14c0 1.1.9 2 2 2h14c1.1 0 2-.9 2-2V5c0-1.1-.9-2-2-2zM9 17H7v-7h2v7zm4 0h-2V7h2v10zm4 0h-2v-4h2v4z\"/>\n",
              "    </g>\n",
              "</svg>\n",
              "  </button>\n",
              "\n",
              "<style>\n",
              "  .colab-df-quickchart {\n",
              "      --bg-color: #E8F0FE;\n",
              "      --fill-color: #1967D2;\n",
              "      --hover-bg-color: #E2EBFA;\n",
              "      --hover-fill-color: #174EA6;\n",
              "      --disabled-fill-color: #AAA;\n",
              "      --disabled-bg-color: #DDD;\n",
              "  }\n",
              "\n",
              "  [theme=dark] .colab-df-quickchart {\n",
              "      --bg-color: #3B4455;\n",
              "      --fill-color: #D2E3FC;\n",
              "      --hover-bg-color: #434B5C;\n",
              "      --hover-fill-color: #FFFFFF;\n",
              "      --disabled-bg-color: #3B4455;\n",
              "      --disabled-fill-color: #666;\n",
              "  }\n",
              "\n",
              "  .colab-df-quickchart {\n",
              "    background-color: var(--bg-color);\n",
              "    border: none;\n",
              "    border-radius: 50%;\n",
              "    cursor: pointer;\n",
              "    display: none;\n",
              "    fill: var(--fill-color);\n",
              "    height: 32px;\n",
              "    padding: 0;\n",
              "    width: 32px;\n",
              "  }\n",
              "\n",
              "  .colab-df-quickchart:hover {\n",
              "    background-color: var(--hover-bg-color);\n",
              "    box-shadow: 0 1px 2px rgba(60, 64, 67, 0.3), 0 1px 3px 1px rgba(60, 64, 67, 0.15);\n",
              "    fill: var(--button-hover-fill-color);\n",
              "  }\n",
              "\n",
              "  .colab-df-quickchart-complete:disabled,\n",
              "  .colab-df-quickchart-complete:disabled:hover {\n",
              "    background-color: var(--disabled-bg-color);\n",
              "    fill: var(--disabled-fill-color);\n",
              "    box-shadow: none;\n",
              "  }\n",
              "\n",
              "  .colab-df-spinner {\n",
              "    border: 2px solid var(--fill-color);\n",
              "    border-color: transparent;\n",
              "    border-bottom-color: var(--fill-color);\n",
              "    animation:\n",
              "      spin 1s steps(1) infinite;\n",
              "  }\n",
              "\n",
              "  @keyframes spin {\n",
              "    0% {\n",
              "      border-color: transparent;\n",
              "      border-bottom-color: var(--fill-color);\n",
              "      border-left-color: var(--fill-color);\n",
              "    }\n",
              "    20% {\n",
              "      border-color: transparent;\n",
              "      border-left-color: var(--fill-color);\n",
              "      border-top-color: var(--fill-color);\n",
              "    }\n",
              "    30% {\n",
              "      border-color: transparent;\n",
              "      border-left-color: var(--fill-color);\n",
              "      border-top-color: var(--fill-color);\n",
              "      border-right-color: var(--fill-color);\n",
              "    }\n",
              "    40% {\n",
              "      border-color: transparent;\n",
              "      border-right-color: var(--fill-color);\n",
              "      border-top-color: var(--fill-color);\n",
              "    }\n",
              "    60% {\n",
              "      border-color: transparent;\n",
              "      border-right-color: var(--fill-color);\n",
              "    }\n",
              "    80% {\n",
              "      border-color: transparent;\n",
              "      border-right-color: var(--fill-color);\n",
              "      border-bottom-color: var(--fill-color);\n",
              "    }\n",
              "    90% {\n",
              "      border-color: transparent;\n",
              "      border-bottom-color: var(--fill-color);\n",
              "    }\n",
              "  }\n",
              "</style>\n",
              "\n",
              "  <script>\n",
              "    async function quickchart(key) {\n",
              "      const quickchartButtonEl =\n",
              "        document.querySelector('#' + key + ' button');\n",
              "      quickchartButtonEl.disabled = true;  // To prevent multiple clicks.\n",
              "      quickchartButtonEl.classList.add('colab-df-spinner');\n",
              "      try {\n",
              "        const charts = await google.colab.kernel.invokeFunction(\n",
              "            'suggestCharts', [key], {});\n",
              "      } catch (error) {\n",
              "        console.error('Error during call to suggestCharts:', error);\n",
              "      }\n",
              "      quickchartButtonEl.classList.remove('colab-df-spinner');\n",
              "      quickchartButtonEl.classList.add('colab-df-quickchart-complete');\n",
              "    }\n",
              "    (() => {\n",
              "      let quickchartButtonEl =\n",
              "        document.querySelector('#df-1784289a-cfa7-40f3-993f-b4614cb18310 button');\n",
              "      quickchartButtonEl.style.display =\n",
              "        google.colab.kernel.accessAllowed ? 'block' : 'none';\n",
              "    })();\n",
              "  </script>\n",
              "</div>\n",
              "\n",
              "    </div>\n",
              "  </div>\n"
            ]
          },
          "metadata": {},
          "execution_count": 13
        }
      ],
      "source": [
        "#Les 5 dernière ligne du dataframe\n",
        "donner.tail(5)\n"
      ]
    },
    {
      "cell_type": "markdown",
      "id": "cac1a7ee",
      "metadata": {
        "id": "cac1a7ee"
      },
      "source": [
        "### $$\\text{Les information sur le dataframe}$$"
      ]
    },
    {
      "cell_type": "code",
      "execution_count": null,
      "id": "1a4b7f28",
      "metadata": {
        "id": "1a4b7f28"
      },
      "outputs": [],
      "source": [
        "#Les information sur le dataframe\n",
        "donner.info()\n"
      ]
    },
    {
      "cell_type": "markdown",
      "id": "f36621fb",
      "metadata": {
        "id": "f36621fb"
      },
      "source": [
        "## Traitement 1"
      ]
    },
    {
      "cell_type": "markdown",
      "id": "8ecf949a",
      "metadata": {
        "id": "8ecf949a"
      },
      "source": [
        "### $$\\text{Effacer les lignes contenant les valeurs manquante le dataframe}$$"
      ]
    },
    {
      "cell_type": "code",
      "execution_count": null,
      "id": "3489cdbe",
      "metadata": {
        "id": "3489cdbe"
      },
      "outputs": [],
      "source": [
        "#Effacer les lignes contenant les valeurs manquante le dataframe\n",
        "donne1 = donner.dropna(axis = 0)"
      ]
    },
    {
      "cell_type": "code",
      "execution_count": 18,
      "id": "46fec18a",
      "metadata": {
        "id": "46fec18a",
        "colab": {
          "base_uri": "https://localhost:8080/"
        },
        "outputId": "da3bd1f7-28e0-47d9-d3c1-8a861fa8007e"
      },
      "outputs": [
        {
          "output_type": "execute_result",
          "data": {
            "text/plain": [
              "(183, 12)"
            ]
          },
          "metadata": {},
          "execution_count": 18
        }
      ],
      "source": [
        "#Les dimensions du donne1\n",
        "donne1.shape"
      ]
    },
    {
      "cell_type": "code",
      "execution_count": null,
      "id": "4b2e653c",
      "metadata": {
        "id": "4b2e653c"
      },
      "outputs": [],
      "source": [
        "#Les information sur le donne1\n",
        "donne1.info()"
      ]
    },
    {
      "cell_type": "markdown",
      "id": "65a946af",
      "metadata": {
        "id": "65a946af"
      },
      "source": [
        "## Traitement 2"
      ]
    },
    {
      "cell_type": "markdown",
      "id": "5951b070",
      "metadata": {
        "id": "5951b070"
      },
      "source": [
        "### $$\\text{liste des colonnes contenant  les valeurs manquantes}$$"
      ]
    },
    {
      "cell_type": "code",
      "execution_count": 21,
      "id": "663546bb",
      "metadata": {
        "id": "663546bb",
        "colab": {
          "base_uri": "https://localhost:8080/"
        },
        "outputId": "8aa6c0e4-a435-4305-9ed0-071032417eb0"
      },
      "outputs": [
        {
          "output_type": "execute_result",
          "data": {
            "text/plain": [
              "Index(['Age', 'Cabin', 'Embarked'], dtype='object')"
            ]
          },
          "metadata": {},
          "execution_count": 21
        }
      ],
      "source": [
        "#liste des colonnes contenant  les valeurs manquantes\n",
        "colonnes_vides = donner.columns[donner.isnull().any()]\n"
      ]
    },
    {
      "cell_type": "code",
      "execution_count": 22,
      "id": "63ec17a9",
      "metadata": {
        "id": "63ec17a9",
        "colab": {
          "base_uri": "https://localhost:8080/"
        },
        "outputId": "238fffa1-a678-475b-8c7e-a97748026045"
      },
      "outputs": [
        {
          "output_type": "execute_result",
          "data": {
            "text/plain": [
              "Index(['Age', 'Cabin', 'Embarked'], dtype='object')"
            ]
          },
          "metadata": {},
          "execution_count": 22
        }
      ],
      "source": [
        "#Afficher la liste des colonnes vides\n",
        "colonnes_vides"
      ]
    },
    {
      "cell_type": "markdown",
      "id": "2a083031",
      "metadata": {
        "id": "2a083031"
      },
      "source": [
        "### $$\\text{Effacer les colonnes Cabin et Embarked }$$"
      ]
    },
    {
      "cell_type": "code",
      "execution_count": 24,
      "id": "0c74fd39",
      "metadata": {
        "id": "0c74fd39"
      },
      "outputs": [],
      "source": [
        "#Effacer les colonnes Cabin et Embarked\n",
        "data2 = donner.drop([\"Cabin\",\"Embarked\"] , axis = 1)"
      ]
    },
    {
      "cell_type": "markdown",
      "id": "7a61059b",
      "metadata": {
        "id": "7a61059b"
      },
      "source": [
        "### $$\\text{Remplacer les valeurs manquantes par 18}$$\n"
      ]
    },
    {
      "cell_type": "code",
      "execution_count": 25,
      "id": "1950e6e0",
      "metadata": {
        "id": "1950e6e0"
      },
      "outputs": [],
      "source": [
        "#Remplacer les valeurs manquantes par 18\n",
        "data3 = data2.fillna(18)"
      ]
    },
    {
      "cell_type": "code",
      "execution_count": null,
      "id": "1c18288f",
      "metadata": {
        "id": "1c18288f"
      },
      "outputs": [],
      "source": [
        "#Les dimensions de data3\n",
        "data3.info()"
      ]
    }
  ],
  "metadata": {
    "celltoolbar": "Format de la Cellule Texte Brut",
    "colab": {
      "provenance": [],
      "include_colab_link": true
    },
    "kernelspec": {
      "display_name": "Python 3 (ipykernel)",
      "language": "python",
      "name": "python3"
    },
    "language_info": {
      "codemirror_mode": {
        "name": "ipython",
        "version": 3
      },
      "file_extension": ".py",
      "mimetype": "text/x-python",
      "name": "python",
      "nbconvert_exporter": "python",
      "pygments_lexer": "ipython3",
      "version": "3.11.5"
    }
  },
  "nbformat": 4,
  "nbformat_minor": 5
}